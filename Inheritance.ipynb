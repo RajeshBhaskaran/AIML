{
 "cells": [
  {
   "cell_type": "markdown",
   "id": "0c95cc34-8402-42b0-8716-513e83f01035",
   "metadata": {},
   "source": [
    "### MRO - Method Resolution Order\n",
    "MRO algorithm\n",
    "\n",
    "If head element of first list not present in the tail part of any other list \n",
    "then consider that element in the result and remove that element from all the lists. "
   ]
  },
  {
   "cell_type": "code",
   "execution_count": 3,
   "id": "67eac7e8-cedc-4e74-b21e-9045025e303d",
   "metadata": {},
   "outputs": [
    {
     "name": "stdout",
     "output_type": "stream",
     "text": [
      "Method of Class B\n",
      "[<class '__main__.B'>, <class '__main__.A'>, <class 'object'>]\n"
     ]
    }
   ],
   "source": [
    "class A:\n",
    "    def m1(self):\n",
    "        print(\"Method of Class A\")\n",
    "class B(A):\n",
    "    def m1(self):\n",
    "        print(\"Method of Class B\")\n",
    "\n",
    "obj = B()\n",
    "\n",
    "obj.m1()\n",
    "\n",
    "print(B.mro())"
   ]
  },
  {
   "cell_type": "markdown",
   "id": "85823e9e-afbe-40c0-b0d6-fb923c427c84",
   "metadata": {},
   "source": [
    "In this case .. function m1 is present in both Class A and Class B. When we call m1 via Class B , since Class B already has m1 , it overrides the m1 present in Class A and uses its own m1. "
   ]
  },
  {
   "cell_type": "code",
   "execution_count": 4,
   "id": "f2fe958c-9c26-4479-bcca-9e5b5f9b1a42",
   "metadata": {},
   "outputs": [
    {
     "name": "stdout",
     "output_type": "stream",
     "text": [
      "Method of Class A\n",
      "[<class '__main__.B'>, <class '__main__.A'>, <class 'object'>]\n"
     ]
    }
   ],
   "source": [
    "class A:\n",
    "    def m1(self):\n",
    "        print(\"Method of Class A\")\n",
    "class B(A):\n",
    "    def m2(self):\n",
    "        print(\"Method of Class B\")\n",
    "\n",
    "obj = B()\n",
    "\n",
    "obj.m1()\n",
    "\n",
    "print(B.mro())"
   ]
  },
  {
   "cell_type": "code",
   "execution_count": null,
   "id": "be3e7693-d7e6-41fb-9afc-2b490507e448",
   "metadata": {},
   "outputs": [],
   "source": []
  }
 ],
 "metadata": {
  "kernelspec": {
   "display_name": "Python 3 (ipykernel)",
   "language": "python",
   "name": "python3"
  },
  "language_info": {
   "codemirror_mode": {
    "name": "ipython",
    "version": 3
   },
   "file_extension": ".py",
   "mimetype": "text/x-python",
   "name": "python",
   "nbconvert_exporter": "python",
   "pygments_lexer": "ipython3",
   "version": "3.12.3"
  }
 },
 "nbformat": 4,
 "nbformat_minor": 5
}
